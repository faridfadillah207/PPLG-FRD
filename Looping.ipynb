{
  "nbformat": 4,
  "nbformat_minor": 0,
  "metadata": {
    "colab": {
      "provenance": [],
      "authorship_tag": "ABX9TyO6pDSVXdnZwhX9buXIWHG1",
      "include_colab_link": true
    },
    "kernelspec": {
      "name": "python3",
      "display_name": "Python 3"
    },
    "language_info": {
      "name": "python"
    }
  },
  "cells": [
    {
      "cell_type": "markdown",
      "metadata": {
        "id": "view-in-github",
        "colab_type": "text"
      },
      "source": [
        "<a href=\"https://colab.research.google.com/github/faridfadillah207/PPLG-KEV/blob/main/Looping.ipynb\" target=\"_parent\"><img src=\"https://colab.research.google.com/assets/colab-badge.svg\" alt=\"Open In Colab\"/></a>"
      ]
    },
    {
      "cell_type": "markdown",
      "source": [
        "#Looping / Perulangan Menggunakan \"for\"\n",
        "kita dapat menggunakan suatu cara yang disebut loop atau iterator. Ada dua cara untuk menjalankan perintah tersebut, yaitu dengan for atau while loop. Pada contoh kali ini, kita akan menggunakan metode range. Metode ini yang menentukan rentang loop seberapa banyak perintah harus di ulang. Secara default, titik awalnya adalah 0."
      ],
      "metadata": {
        "id": "45ApSTC2IIWt"
      }
    },
    {
      "cell_type": "code",
      "execution_count": 3,
      "metadata": {
        "colab": {
          "base_uri": "https://localhost:8080/"
        },
        "id": "NYWIyzgcIG9n",
        "outputId": "60869fb5-d36d-4c89-fde3-b876188dfe60"
      },
      "outputs": [
        {
          "output_type": "stream",
          "name": "stdout",
          "text": [
            "farid\n",
            "farid\n",
            "farid\n",
            "farid\n",
            "farid\n",
            "farid\n",
            "farid\n",
            "farid\n",
            "farid\n",
            "farid\n",
            "azzamy\n",
            "azzamy\n",
            "azzamy\n",
            "azzamy\n",
            "azzamy\n",
            "azzamy\n",
            "azzamy\n",
            "azzamy\n",
            "azzamy\n",
            "Rajendra\n",
            "Rajendra\n",
            "Rajendra\n",
            "Rajendra\n",
            "Rajendra\n",
            "Rajendra\n",
            "Rajendra\n",
            "Rajendra\n",
            "Rajendra\n",
            "Rajendra\n",
            "Selesai\n",
            "luis Dalam\n",
            "luis Dalam\n",
            "luis Dalam\n",
            "luis Dalam\n",
            "luis Dalam\n",
            "trian Luar\n",
            "luis Dalam\n",
            "luis Dalam\n",
            "luis Dalam\n",
            "luis Dalam\n",
            "luis Dalam\n",
            "trian Luar\n",
            "luis Dalam\n",
            "luis Dalam\n",
            "luis Dalam\n",
            "luis Dalam\n",
            "luis Dalam\n",
            "trian Luar\n"
          ]
        }
      ],
      "source": [
        "for i in range(10):\n",
        "  print(\"farid\")\n",
        "\n",
        "for i in range(1,10):\n",
        "  print(\"azzamy\")\n",
        "\n",
        "for i in range(10):\n",
        "  print(\"Rajendra\")\n",
        "else:\n",
        "  print(\"Selesai\")\n",
        "\n",
        "for i in range(3):\n",
        "  for j in range(5):\n",
        "    print(\"luis Dalam\")\n",
        "  print(\"trian Luar\")\n"
      ]
    },
    {
      "cell_type": "markdown",
      "source": [
        "#Looping / Perulangan Menggunakan \"while\"\n",
        "\n",
        "Dalam bahasa pemrograman Python, terdapat metode loop atau iterator yang lain, yaitu while loop. Kita pun dapat memberikan hasil yang sama seperti yang telah kita lakukan pada for loop dengan menggunakan while loop."
      ],
      "metadata": {
        "id": "7eIaIJjxIYVr"
      }
    },
    {
      "cell_type": "code",
      "source": [
        "i=5\n",
        "while i < 10:\n",
        "  print(\"Angka\", i)\n",
        "  i += 1"
      ],
      "metadata": {
        "colab": {
          "base_uri": "https://localhost:8080/"
        },
        "id": "EiCfQTHyIkC1",
        "outputId": "db3b449a-0510-43e1-a91c-55aee7c8b2f0"
      },
      "execution_count": 1,
      "outputs": [
        {
          "output_type": "stream",
          "name": "stdout",
          "text": [
            "Angka 5\n",
            "Angka 6\n",
            "Angka 7\n",
            "Angka 8\n",
            "Angka 9\n"
          ]
        }
      ]
    }
  ]
}